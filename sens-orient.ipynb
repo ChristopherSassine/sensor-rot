{
 "cells": [
  {
   "cell_type": "markdown",
   "metadata": {},
   "source": [
    "# Librairies"
   ]
  },
  {
   "cell_type": "code",
   "execution_count": null,
   "metadata": {},
   "outputs": [],
   "source": [
    "import numpy as np\n",
    "import math\n",
    "import random\n",
    "import pandas as pd\n",
    "from os import listdir\n",
    "from os.path import isfile, join\n",
    "import matplotlib.pyplot as plt\n",
    "\n",
    "from sklearn.ensemble import RandomForestRegressor\n",
    "from sklearn.metrics import mean_squared_error\n",
    "from scipy.special import softmax\n"
   ]
  },
  {
   "cell_type": "markdown",
   "metadata": {},
   "source": [
    "# Functions "
   ]
  },
  {
   "cell_type": "code",
   "execution_count": 2,
   "metadata": {},
   "outputs": [],
   "source": [
    "def rotation_matrix(axis, theta):\n",
    "    \"\"\"\n",
    "    Return the rotation matrix associated with counterclockwise rotation about\n",
    "    the given axis by theta radians.\n",
    "    \"\"\"\n",
    "    axis = np.asarray(axis)\n",
    "    axis = axis / math.sqrt(np.dot(axis, axis))\n",
    "    a = math.cos(theta / 2.0)\n",
    "    b, c, d = -axis * math.sin(theta / 2.0)\n",
    "    aa, bb, cc, dd = a * a, b * b, c * c, d * d\n",
    "    bc, ad, ac, ab, bd, cd = b * c, a * d, a * c, a * b, b * d, c * d\n",
    "    return np.array([[aa + bb - cc - dd, 2 * (bc + ad), 2 * (bd - ac)],\n",
    "                     [2 * (bc - ad), aa + cc - bb - dd, 2 * (cd + ab)],\n",
    "                     [2 * (bd + ac), 2 * (cd - ab), aa + dd - bb - cc]])\n",
    "\n"
   ]
  },
  {
   "cell_type": "code",
   "execution_count": 3,
   "metadata": {},
   "outputs": [],
   "source": [
    "def get_rotated_vector(theta,axis,vector): # returns a rotated vector\n",
    "    return np.dot(rotation_matrix(axis, theta), vector)"
   ]
  },
  {
   "cell_type": "code",
   "execution_count": 4,
   "metadata": {},
   "outputs": [],
   "source": [
    "def get_rotated_dataframe_X(dataframe): # return a dataframe with the rotated vector for a rotation around the X axis \n",
    "    df=dataframe.copy()\n",
    "    df['vector'] = df[['x','y','z']].agg(list, axis=1)\n",
    "    \n",
    "    df['theta']=np.random.uniform(0, 360)\n",
    "\n",
    "    \n",
    "    df['rotated_vector'] = df.apply(lambda x: get_rotated_vector(x.theta,[1,0,0],x.vector), axis=1)\n",
    "    \n",
    "    return df\n"
   ]
  },
  {
   "cell_type": "code",
   "execution_count": 5,
   "metadata": {},
   "outputs": [],
   "source": [
    "def get_rotated_dataframe_Y(dataframe): # return a dataframe with the rotated vector for a rotation around the Y axis \n",
    "    df=dataframe.copy()\n",
    "    df['vector'] = df[['x','y','z']].agg(list, axis=1)\n",
    "    \n",
    "    df['theta']=np.random.uniform(0, 360)\n",
    "\n",
    "    \n",
    "    df['rotated_vector'] = df.apply(lambda x: get_rotated_vector(x.theta,[0,1,0],x.vector), axis=1)\n",
    "    \n",
    "    return df\n"
   ]
  },
  {
   "cell_type": "code",
   "execution_count": 6,
   "metadata": {},
   "outputs": [],
   "source": [
    "def get_rotated_dataframe_Z(dataframe): # return a dataframe with the rotated vector for a rotation around the Z axis \n",
    "    df=dataframe.copy()\n",
    "    df['vector'] = df[['x','y','z']].agg(list, axis=1)\n",
    "    \n",
    "    df['theta']=np.random.uniform(0, 360)\n",
    "\n",
    "    \n",
    "    df['rotated_vector'] = df.apply(lambda x: get_rotated_vector(x.theta,[0,0,1],x.vector), axis=1)\n",
    "    \n",
    "    return df\n"
   ]
  },
  {
   "cell_type": "code",
   "execution_count": 7,
   "metadata": {},
   "outputs": [],
   "source": [
    "def get_rotated_random_df_list_X(random_df_l): # apply random rotations to parts of dataframes that are contained in a list\n",
    "    \n",
    "    rotated_random_df_list=[]\n",
    "\n",
    "    for dataframe in random_df_l:\n",
    "        rotated_random_df_list.append(get_rotated_dataframe_X(dataframe))\n",
    "        \n",
    "    return rotated_random_df_list\n",
    "    "
   ]
  },
  {
   "cell_type": "code",
   "execution_count": 8,
   "metadata": {},
   "outputs": [],
   "source": [
    "def get_list_of_dataframe(path): # AKA the location of the text files  # make sure to replace all '\\' with '/'\n",
    "    files = [f for f in listdir(path) if isfile(join(path, f))]\n",
    "    \n",
    "    path_list=[]\n",
    "    df_list=[]\n",
    "    \n",
    "    for i in files:\n",
    "        path_list.append(path+\"/\"+i)\n",
    "\n",
    "\n",
    "    for i in path_list:\n",
    "        df=pd.read_csv(i,header=None,sep=' ')\n",
    "        df.columns =['timestamp', 'x', 'y', 'z']\n",
    "        df=df.set_index('timestamp')\n",
    "\n",
    "        df_list.append(df)\n",
    "        \n",
    "    return df_list\n",
    "\n",
    "    "
   ]
  },
  {
   "cell_type": "code",
   "execution_count": 9,
   "metadata": {},
   "outputs": [],
   "source": [
    "def random_sample_dataframe(df):       # returns  a random sample of  dataframe\n",
    "    number_of_rows=random.randint(7000,10000)\n",
    "    n = random.randint(0, len(df)-number_of_rows)\n",
    "\n",
    "    n_random_consecutive_rows = df[n:n+number_of_rows]\n",
    "    \n",
    "    return n_random_consecutive_rows"
   ]
  },
  {
   "cell_type": "code",
   "execution_count": 10,
   "metadata": {},
   "outputs": [],
   "source": [
    "def get_random_datafame_list(df): # returns a list of random sample for each window of dataframe\n",
    "                                  # i decided to have 10 windows per dataframe except for one because it only works with 11 windows\n",
    "    random_df_l=[]\n",
    "    if len(df)==135804:\n",
    "        n=round(len(df)/11)\n",
    "    else:\n",
    "        n=round(len(df)/10)\n",
    "        \n",
    "\n",
    "    df_partitions = [df[i:i+n].copy() for i in range(0,df.shape[0],n)]\n",
    "\n",
    "    for i in df_partitions:\n",
    "        random_df_l.append(random_sample_dataframe(i))\n",
    "        \n",
    "    return random_df_l"
   ]
  },
  {
   "cell_type": "code",
   "execution_count": 11,
   "metadata": {},
   "outputs": [],
   "source": [
    "def get_rotated_random_df_list_X(random_df_l): # rotate the list of dataframes under the X axis\n",
    "    \n",
    "    rotated_random_df_list=[]\n",
    "\n",
    "    for dataframe in random_df_l:\n",
    "        rotated_random_df_list.append(get_rotated_dataframe_X(dataframe))\n",
    "        \n",
    "    return rotated_random_df_list\n",
    "    "
   ]
  },
  {
   "cell_type": "code",
   "execution_count": 12,
   "metadata": {},
   "outputs": [],
   "source": [
    "def get_rotated_random_df_list_Y(random_df_l): # rotate the list of dataframes under the Y axis\n",
    "    \n",
    "    rotated_random_df_list=[]\n",
    "\n",
    "    for dataframe in random_df_l:\n",
    "        rotated_random_df_list.append(get_rotated_dataframe_Y(dataframe))\n",
    "        \n",
    "    return rotated_random_df_list\n",
    "    "
   ]
  },
  {
   "cell_type": "code",
   "execution_count": 13,
   "metadata": {},
   "outputs": [],
   "source": [
    "def get_rotated_random_df_list_Z(random_df_l): # rotate the list of dataframes under the Y axis\n",
    "    \n",
    "    rotated_random_df_list=[]\n",
    "\n",
    "    for dataframe in random_df_l:\n",
    "        rotated_random_df_list.append(get_rotated_dataframe_Z(dataframe))\n",
    "        \n",
    "    return rotated_random_df_list\n",
    "    "
   ]
  },
  {
   "cell_type": "code",
   "execution_count": 14,
   "metadata": {},
   "outputs": [],
   "source": [
    "def get_rotated_x(rotated_vector):\n",
    "    return rotated_vector[0]\n",
    "\n",
    "def get_rotated_y(rotated_vector):\n",
    "    return rotated_vector[1]\n",
    "\n",
    "def get_rotated_z(rotated_vector):\n",
    "    return rotated_vector[2]"
   ]
  },
  {
   "cell_type": "code",
   "execution_count": 15,
   "metadata": {},
   "outputs": [],
   "source": [
    "def add_random_rotations_to_initial_dataframe(df,clean_rotated_rand_df_l): # add the random rotations to the dataframe by updating df values\n",
    "    df['theta']=0\n",
    "    for rotated_dataframe in clean_rotated_rand_df_l:\n",
    "        df.update(rotated_dataframe)\n",
    "        \n",
    "    return df"
   ]
  },
  {
   "cell_type": "code",
   "execution_count": 16,
   "metadata": {},
   "outputs": [],
   "source": [
    "\n",
    "def get_clean_rotated_random_df_l(rotated_random_df_l): # clean the dataframe by removing unwanted columns\n",
    "    \n",
    "    clean_rotated_rand_df_l=[]\n",
    "    for dataframe in rotated_random_df_l:\n",
    "        \n",
    "        dataframe['x']=dataframe['rotated_vector'].apply(get_rotated_x)\n",
    "        dataframe['y']=dataframe['rotated_vector'].apply(get_rotated_y)\n",
    "        dataframe['z']=dataframe['rotated_vector'].apply(get_rotated_z)\n",
    "        dataframe=dataframe.drop(['vector', 'rotated_vector'], axis=1)\n",
    "        \n",
    "        clean_rotated_rand_df_l.append(dataframe)\n",
    "        \n",
    "    \n",
    "    return clean_rotated_rand_df_l"
   ]
  },
  {
   "cell_type": "markdown",
   "metadata": {},
   "source": [
    "# Main functions"
   ]
  },
  {
   "cell_type": "code",
   "execution_count": 17,
   "metadata": {},
   "outputs": [],
   "source": [
    "# Main function\n",
    "def apply_random_rotations_to_dataframe_X(df): # all the functions put together to get the randomly rotated dataframe with the features we want\n",
    "    random_df_l=get_random_datafame_list(df)   # returns a list containing random subparts for each partition of the dataframe (partitions=10)\n",
    "    rotated_random_df_l=get_rotated_random_df_list_X(random_df_l) # rotated the random subparts\n",
    "    clean_rotated_rand_df_l=get_clean_rotated_random_df_l(rotated_random_df_l) # remove duplicate information and put each feature in a single coLumn\n",
    "    df=add_random_rotations_to_initial_dataframe(df,clean_rotated_rand_df_l)   # update the initial dataframe with the random rotations\n",
    "    \n",
    "    df_diff=df.copy()\n",
    "    df_diff['y_diff']=df_diff['y'].diff(periods=1)\n",
    "    df_diff['z_diff']=df_diff['z'].diff(periods=1)\n",
    "    df_diff=df_diff.iloc[1: , :]\n",
    "    \n",
    "    df_diff['softmax_y_diff'] = softmax(df_diff['y_diff'])\n",
    "    df_diff['softmax_z_diff'] = softmax(df_diff['z_diff'])\n",
    "    \n",
    "    return df_diff"
   ]
  },
  {
   "cell_type": "code",
   "execution_count": 18,
   "metadata": {},
   "outputs": [],
   "source": [
    "# main function\n",
    "def apply_random_rotations_to_dataframe_Y(df): # all the functions put together to get the randomly rotated dataframe with the features we want\n",
    "    random_df_l=get_random_datafame_list(df)   # returns a list containing random subparts for each partition of the dataframe (partitions=10)\n",
    "    rotated_random_df_l=get_rotated_random_df_list_Y(random_df_l) # rotate the random subparts\n",
    "    clean_rotated_rand_df_l=get_clean_rotated_random_df_l(rotated_random_df_l) # remove duplicate information and put each feature in a single coLumn\n",
    "    df=add_random_rotations_to_initial_dataframe(df,clean_rotated_rand_df_l)  # update the initial dataframe with the random rotations\n",
    "    \n",
    "    df_diff=df.copy()\n",
    "    df_diff['x_diff']=df_diff['x'].diff(periods=1)\n",
    "    df_diff['z_diff']=df_diff['z'].diff(periods=1)\n",
    "    df_diff=df_diff.iloc[1: , :]\n",
    "    \n",
    "    df_diff['softmax_x_diff'] = softmax(df_diff['x_diff'])\n",
    "    df_diff['softmax_z_diff'] = softmax(df_diff['z_diff'])\n",
    "    \n",
    "    return df_diff"
   ]
  },
  {
   "cell_type": "code",
   "execution_count": 19,
   "metadata": {},
   "outputs": [],
   "source": [
    "# main function\n",
    "def apply_random_rotations_to_dataframe_Z(df): # all the functions put together to get the randomly rotated dataframe with the features we want\n",
    "    random_df_l=get_random_datafame_list(df) # returns a list containing random subparts for each partition of the dataframe (partitions=10)\n",
    "    rotated_random_df_l=get_rotated_random_df_list_Z(random_df_l)  # rotate the random subparts\n",
    "    clean_rotated_rand_df_l=get_clean_rotated_random_df_l(rotated_random_df_l) # remove duplicate information and put each feature in a single coLumn\n",
    "    df=add_random_rotations_to_initial_dataframe(df,clean_rotated_rand_df_l)  # update the initial dataframe with the random rotations\n",
    "     \n",
    "    df_diff=df.copy()\n",
    "    df_diff['x_diff']=df_diff['x'].diff(periods=1)\n",
    "    df_diff['y_diff']=df_diff['y'].diff(periods=1)\n",
    "    df_diff=df_diff.iloc[1: , :]\n",
    "    \n",
    "    df_diff['softmax_x_diff'] = softmax(df_diff['x_diff'])\n",
    "    df_diff['softmax_y_diff'] = softmax(df_diff['y_diff'])\n",
    "    \n",
    "    return df_diff"
   ]
  },
  {
   "cell_type": "markdown",
   "metadata": {},
   "source": [
    "## Model building + performance analysis Functions"
   ]
  },
  {
   "cell_type": "code",
   "execution_count": 20,
   "metadata": {},
   "outputs": [],
   "source": [
    "def train_and_test_model_X(df):  # Train and test model for rotations around the X-axis\n",
    "    from sklearn.model_selection import train_test_split  \n",
    "    \n",
    "    df_features=df[['y_diff','z_diff','softmax_y_diff','softmax_z_diff']].agg(list, axis=1)\n",
    "    X=df_features.values\n",
    "    \n",
    "    X=[i for i in X]\n",
    "    #X = min_max_scaler.fit_transform(X)\n",
    "    y=df['theta'].values\n",
    "    y=[i for i in y]\n",
    "    \n",
    "    x_train, x_test, y_train, y_test = train_test_split(\n",
    "        X, y, test_size=0.5, random_state=42)\n",
    "\n",
    "    from sklearn.ensemble import RandomForestRegressor\n",
    "\n",
    "    \n",
    "\n",
    "    model = RandomForestRegressor(random_state=1)\n",
    "    model.fit(x_train, y_train)\n",
    "    \n",
    "    \n",
    "    score=model.score(x_test,y_test)\n",
    "    ypred = model.predict(x_test)\n",
    "    \n",
    "    mse=mean_squared_error(y_test, ypred)\n",
    "\n",
    "\n",
    "\n",
    "    return model,score,mse"
   ]
  },
  {
   "cell_type": "code",
   "execution_count": 21,
   "metadata": {},
   "outputs": [],
   "source": [
    "def train_and_test_model_Y(df): # Train and test model for rotations around the Y-axis\n",
    "    from sklearn.model_selection import train_test_split  \n",
    "    \n",
    "    df_features=df[['x_diff','z_diff','softmax_x_diff','softmax_z_diff']].agg(list, axis=1)\n",
    "    X=df_features.values\n",
    "    \n",
    "    X=[i for i in X]\n",
    "    y=df['theta'].values\n",
    "    y=[i for i in y]\n",
    "    \n",
    "    x_train, x_test, y_train, y_test = train_test_split(\n",
    "        X, y, test_size=0.5, random_state=42)\n",
    "\n",
    "    from sklearn.ensemble import RandomForestRegressor\n",
    "\n",
    "    \n",
    "\n",
    "    model = RandomForestRegressor(random_state=1)\n",
    "    model.fit(x_train, y_train)\n",
    "    \n",
    "    \n",
    "    score=model.score(x_test,y_test)\n",
    "    ypred = model.predict(x_test)\n",
    "    \n",
    "    mse=mean_squared_error(y_test, ypred)\n",
    "\n",
    "\n",
    "\n",
    "    return model,score,mse"
   ]
  },
  {
   "cell_type": "code",
   "execution_count": 22,
   "metadata": {},
   "outputs": [],
   "source": [
    "def train_and_test_model_Z(df): # Train and test model for rotations around the Z-axis\n",
    "    from sklearn.model_selection import train_test_split  \n",
    "    \n",
    "    df_features=df[['x_diff','y_diff','softmax_x_diff','softmax_y_diff']].agg(list, axis=1)\n",
    "    X=df_features.values\n",
    "    \n",
    "    X=[i for i in X]\n",
    "    \n",
    "    y=df['theta'].values\n",
    "    y=[i for i in y]\n",
    "    \n",
    "    x_train, x_test, y_train, y_test = train_test_split(\n",
    "        X, y, test_size=0.5, random_state=42)\n",
    "\n",
    "    from sklearn.ensemble import RandomForestRegressor\n",
    "\n",
    "    \n",
    "\n",
    "    model = RandomForestRegressor(random_state=1)\n",
    "    model.fit(x_train, y_train)\n",
    "    \n",
    "    \n",
    "    score=model.score(x_test,y_test)\n",
    "    ypred = model.predict(x_test)\n",
    "    \n",
    "    mse=mean_squared_error(y_test, ypred)\n",
    "\n",
    "\n",
    "\n",
    "    return model,score,mse"
   ]
  },
  {
   "cell_type": "markdown",
   "metadata": {},
   "source": [
    "In this part, we are going to apply the random rotations and train the models"
   ]
  },
  {
   "cell_type": "markdown",
   "metadata": {},
   "source": [
    "# Read all files and store them in a list"
   ]
  },
  {
   "cell_type": "code",
   "execution_count": 23,
   "metadata": {},
   "outputs": [],
   "source": [
    "location=\"C:/Users/chris/OneDrive/Desktop/reports\"  # use the location of the files: Put all the files in the same folder and copy past its location. please replace all '\\' with '/' \n",
    "\n",
    "df_list=get_list_of_dataframe(location)"
   ]
  },
  {
   "cell_type": "markdown",
   "metadata": {},
   "source": [
    "# Apply Random rotations to all dataframes contained in the list and  get a new list of rotated dataframes"
   ]
  },
  {
   "cell_type": "markdown",
   "metadata": {},
   "source": [
    "## list of randomly rotated dataframes for X-axis "
   ]
  },
  {
   "cell_type": "code",
   "execution_count": 26,
   "metadata": {
    "scrolled": false
   },
   "outputs": [],
   "source": [
    "list_all_rotated_dataframes_X=[]\n",
    "\n",
    "for dataframe in df_list:\n",
    "    list_all_rotated_dataframes_X.append(apply_random_rotations_to_dataframe_X(dataframe))"
   ]
  },
  {
   "cell_type": "markdown",
   "metadata": {},
   "source": [
    "## list of randomly rotated dataframes for Y-axis"
   ]
  },
  {
   "cell_type": "code",
   "execution_count": 27,
   "metadata": {},
   "outputs": [],
   "source": [
    "list_all_rotated_dataframes_Y=[]\n",
    "\n",
    "for dataframe in df_list:\n",
    "    list_all_rotated_dataframes_Y.append(apply_random_rotations_to_dataframe_Y(dataframe))"
   ]
  },
  {
   "cell_type": "markdown",
   "metadata": {},
   "source": [
    "## list of randomly rotated dataframes for Z-axis "
   ]
  },
  {
   "cell_type": "code",
   "execution_count": 28,
   "metadata": {},
   "outputs": [],
   "source": [
    "list_all_rotated_dataframes_Z=[]\n",
    "\n",
    "for dataframe in df_list:\n",
    "    list_all_rotated_dataframes_Z.append(apply_random_rotations_to_dataframe_Z(dataframe))"
   ]
  },
  {
   "cell_type": "markdown",
   "metadata": {},
   "source": [
    "# concatenate the list of  dataframes by axis"
   ]
  },
  {
   "cell_type": "code",
   "execution_count": 29,
   "metadata": {},
   "outputs": [],
   "source": [
    "df_X=pd.concat(list_all_rotated_dataframes_X)"
   ]
  },
  {
   "cell_type": "code",
   "execution_count": 30,
   "metadata": {},
   "outputs": [],
   "source": [
    "df_Y=pd.concat(list_all_rotated_dataframes_Y)"
   ]
  },
  {
   "cell_type": "code",
   "execution_count": 31,
   "metadata": {},
   "outputs": [],
   "source": [
    "df_Z=pd.concat(list_all_rotated_dataframes_Z)"
   ]
  },
  {
   "cell_type": "markdown",
   "metadata": {},
   "source": [
    "# View of the rotated Dataframes"
   ]
  },
  {
   "cell_type": "code",
   "execution_count": 44,
   "metadata": {},
   "outputs": [
    {
     "data": {
      "text/html": [
       "<div>\n",
       "<style scoped>\n",
       "    .dataframe tbody tr th:only-of-type {\n",
       "        vertical-align: middle;\n",
       "    }\n",
       "\n",
       "    .dataframe tbody tr th {\n",
       "        vertical-align: top;\n",
       "    }\n",
       "\n",
       "    .dataframe thead th {\n",
       "        text-align: right;\n",
       "    }\n",
       "</style>\n",
       "<table border=\"1\" class=\"dataframe\">\n",
       "  <thead>\n",
       "    <tr style=\"text-align: right;\">\n",
       "      <th></th>\n",
       "      <th>x</th>\n",
       "      <th>y</th>\n",
       "      <th>z</th>\n",
       "      <th>theta</th>\n",
       "      <th>y_diff</th>\n",
       "      <th>z_diff</th>\n",
       "      <th>softmax_y_diff</th>\n",
       "      <th>softmax_z_diff</th>\n",
       "    </tr>\n",
       "    <tr>\n",
       "      <th>timestamp</th>\n",
       "      <th></th>\n",
       "      <th></th>\n",
       "      <th></th>\n",
       "      <th></th>\n",
       "      <th></th>\n",
       "      <th></th>\n",
       "      <th></th>\n",
       "      <th></th>\n",
       "    </tr>\n",
       "  </thead>\n",
       "  <tbody>\n",
       "    <tr>\n",
       "      <th>20</th>\n",
       "      <td>0.0</td>\n",
       "      <td>-2.0</td>\n",
       "      <td>14.0</td>\n",
       "      <td>0.0</td>\n",
       "      <td>5.0</td>\n",
       "      <td>-1.0</td>\n",
       "      <td>0.0</td>\n",
       "      <td>4.258743e-280</td>\n",
       "    </tr>\n",
       "    <tr>\n",
       "      <th>40</th>\n",
       "      <td>19.0</td>\n",
       "      <td>-5.0</td>\n",
       "      <td>8.0</td>\n",
       "      <td>0.0</td>\n",
       "      <td>-3.0</td>\n",
       "      <td>-6.0</td>\n",
       "      <td>0.0</td>\n",
       "      <td>2.869519e-282</td>\n",
       "    </tr>\n",
       "    <tr>\n",
       "      <th>60</th>\n",
       "      <td>50.0</td>\n",
       "      <td>6.0</td>\n",
       "      <td>38.0</td>\n",
       "      <td>0.0</td>\n",
       "      <td>11.0</td>\n",
       "      <td>30.0</td>\n",
       "      <td>0.0</td>\n",
       "      <td>1.237116e-266</td>\n",
       "    </tr>\n",
       "    <tr>\n",
       "      <th>80</th>\n",
       "      <td>15.0</td>\n",
       "      <td>-12.0</td>\n",
       "      <td>9.0</td>\n",
       "      <td>0.0</td>\n",
       "      <td>-18.0</td>\n",
       "      <td>-29.0</td>\n",
       "      <td>0.0</td>\n",
       "      <td>2.944665e-292</td>\n",
       "    </tr>\n",
       "    <tr>\n",
       "      <th>100</th>\n",
       "      <td>-48.0</td>\n",
       "      <td>-12.0</td>\n",
       "      <td>4.0</td>\n",
       "      <td>0.0</td>\n",
       "      <td>0.0</td>\n",
       "      <td>-5.0</td>\n",
       "      <td>0.0</td>\n",
       "      <td>7.800160e-282</td>\n",
       "    </tr>\n",
       "    <tr>\n",
       "      <th>...</th>\n",
       "      <td>...</td>\n",
       "      <td>...</td>\n",
       "      <td>...</td>\n",
       "      <td>...</td>\n",
       "      <td>...</td>\n",
       "      <td>...</td>\n",
       "      <td>...</td>\n",
       "      <td>...</td>\n",
       "    </tr>\n",
       "    <tr>\n",
       "      <th>5099880</th>\n",
       "      <td>21.0</td>\n",
       "      <td>3.0</td>\n",
       "      <td>2.0</td>\n",
       "      <td>0.0</td>\n",
       "      <td>25.0</td>\n",
       "      <td>3.0</td>\n",
       "      <td>0.0</td>\n",
       "      <td>3.277434e-276</td>\n",
       "    </tr>\n",
       "    <tr>\n",
       "      <th>5099900</th>\n",
       "      <td>22.0</td>\n",
       "      <td>4.0</td>\n",
       "      <td>6.0</td>\n",
       "      <td>0.0</td>\n",
       "      <td>1.0</td>\n",
       "      <td>4.0</td>\n",
       "      <td>0.0</td>\n",
       "      <td>8.908990e-276</td>\n",
       "    </tr>\n",
       "    <tr>\n",
       "      <th>5099920</th>\n",
       "      <td>8.0</td>\n",
       "      <td>-21.0</td>\n",
       "      <td>-1.0</td>\n",
       "      <td>0.0</td>\n",
       "      <td>-25.0</td>\n",
       "      <td>-7.0</td>\n",
       "      <td>0.0</td>\n",
       "      <td>1.487953e-280</td>\n",
       "    </tr>\n",
       "    <tr>\n",
       "      <th>5099940</th>\n",
       "      <td>11.0</td>\n",
       "      <td>-31.0</td>\n",
       "      <td>-5.0</td>\n",
       "      <td>0.0</td>\n",
       "      <td>-10.0</td>\n",
       "      <td>-4.0</td>\n",
       "      <td>0.0</td>\n",
       "      <td>2.988633e-279</td>\n",
       "    </tr>\n",
       "    <tr>\n",
       "      <th>5099960</th>\n",
       "      <td>19.0</td>\n",
       "      <td>-15.0</td>\n",
       "      <td>2.0</td>\n",
       "      <td>0.0</td>\n",
       "      <td>16.0</td>\n",
       "      <td>7.0</td>\n",
       "      <td>0.0</td>\n",
       "      <td>1.789419e-274</td>\n",
       "    </tr>\n",
       "  </tbody>\n",
       "</table>\n",
       "<p>3790163 rows × 8 columns</p>\n",
       "</div>"
      ],
      "text/plain": [
       "              x     y     z  theta  y_diff  z_diff  softmax_y_diff  \\\n",
       "timestamp                                                            \n",
       "20          0.0  -2.0  14.0    0.0     5.0    -1.0             0.0   \n",
       "40         19.0  -5.0   8.0    0.0    -3.0    -6.0             0.0   \n",
       "60         50.0   6.0  38.0    0.0    11.0    30.0             0.0   \n",
       "80         15.0 -12.0   9.0    0.0   -18.0   -29.0             0.0   \n",
       "100       -48.0 -12.0   4.0    0.0     0.0    -5.0             0.0   \n",
       "...         ...   ...   ...    ...     ...     ...             ...   \n",
       "5099880    21.0   3.0   2.0    0.0    25.0     3.0             0.0   \n",
       "5099900    22.0   4.0   6.0    0.0     1.0     4.0             0.0   \n",
       "5099920     8.0 -21.0  -1.0    0.0   -25.0    -7.0             0.0   \n",
       "5099940    11.0 -31.0  -5.0    0.0   -10.0    -4.0             0.0   \n",
       "5099960    19.0 -15.0   2.0    0.0    16.0     7.0             0.0   \n",
       "\n",
       "           softmax_z_diff  \n",
       "timestamp                  \n",
       "20          4.258743e-280  \n",
       "40          2.869519e-282  \n",
       "60          1.237116e-266  \n",
       "80          2.944665e-292  \n",
       "100         7.800160e-282  \n",
       "...                   ...  \n",
       "5099880     3.277434e-276  \n",
       "5099900     8.908990e-276  \n",
       "5099920     1.487953e-280  \n",
       "5099940     2.988633e-279  \n",
       "5099960     1.789419e-274  \n",
       "\n",
       "[3790163 rows x 8 columns]"
      ]
     },
     "execution_count": 44,
     "metadata": {},
     "output_type": "execute_result"
    }
   ],
   "source": [
    "df_X"
   ]
  },
  {
   "cell_type": "code",
   "execution_count": 45,
   "metadata": {},
   "outputs": [
    {
     "data": {
      "text/html": [
       "<div>\n",
       "<style scoped>\n",
       "    .dataframe tbody tr th:only-of-type {\n",
       "        vertical-align: middle;\n",
       "    }\n",
       "\n",
       "    .dataframe tbody tr th {\n",
       "        vertical-align: top;\n",
       "    }\n",
       "\n",
       "    .dataframe thead th {\n",
       "        text-align: right;\n",
       "    }\n",
       "</style>\n",
       "<table border=\"1\" class=\"dataframe\">\n",
       "  <thead>\n",
       "    <tr style=\"text-align: right;\">\n",
       "      <th></th>\n",
       "      <th>x</th>\n",
       "      <th>y</th>\n",
       "      <th>z</th>\n",
       "      <th>theta</th>\n",
       "      <th>x_diff</th>\n",
       "      <th>z_diff</th>\n",
       "      <th>softmax_x_diff</th>\n",
       "      <th>softmax_z_diff</th>\n",
       "    </tr>\n",
       "    <tr>\n",
       "      <th>timestamp</th>\n",
       "      <th></th>\n",
       "      <th></th>\n",
       "      <th></th>\n",
       "      <th></th>\n",
       "      <th></th>\n",
       "      <th></th>\n",
       "      <th></th>\n",
       "      <th></th>\n",
       "    </tr>\n",
       "  </thead>\n",
       "  <tbody>\n",
       "    <tr>\n",
       "      <th>20</th>\n",
       "      <td>0.0</td>\n",
       "      <td>-2.0</td>\n",
       "      <td>14.0</td>\n",
       "      <td>0.0</td>\n",
       "      <td>4.0</td>\n",
       "      <td>-1.0</td>\n",
       "      <td>5.752741e-290</td>\n",
       "      <td>8.621819e-264</td>\n",
       "    </tr>\n",
       "    <tr>\n",
       "      <th>40</th>\n",
       "      <td>19.0</td>\n",
       "      <td>-5.0</td>\n",
       "      <td>8.0</td>\n",
       "      <td>0.0</td>\n",
       "      <td>19.0</td>\n",
       "      <td>-6.0</td>\n",
       "      <td>1.880581e-283</td>\n",
       "      <td>5.809336e-266</td>\n",
       "    </tr>\n",
       "    <tr>\n",
       "      <th>60</th>\n",
       "      <td>50.0</td>\n",
       "      <td>6.0</td>\n",
       "      <td>38.0</td>\n",
       "      <td>0.0</td>\n",
       "      <td>31.0</td>\n",
       "      <td>30.0</td>\n",
       "      <td>3.060736e-278</td>\n",
       "      <td>2.504539e-250</td>\n",
       "    </tr>\n",
       "    <tr>\n",
       "      <th>80</th>\n",
       "      <td>15.0</td>\n",
       "      <td>-12.0</td>\n",
       "      <td>9.0</td>\n",
       "      <td>0.0</td>\n",
       "      <td>-35.0</td>\n",
       "      <td>-29.0</td>\n",
       "      <td>6.643395e-307</td>\n",
       "      <td>5.961470e-276</td>\n",
       "    </tr>\n",
       "    <tr>\n",
       "      <th>100</th>\n",
       "      <td>-48.0</td>\n",
       "      <td>-12.0</td>\n",
       "      <td>4.0</td>\n",
       "      <td>0.0</td>\n",
       "      <td>-63.0</td>\n",
       "      <td>-5.0</td>\n",
       "      <td>4.593526e-319</td>\n",
       "      <td>1.579141e-265</td>\n",
       "    </tr>\n",
       "    <tr>\n",
       "      <th>...</th>\n",
       "      <td>...</td>\n",
       "      <td>...</td>\n",
       "      <td>...</td>\n",
       "      <td>...</td>\n",
       "      <td>...</td>\n",
       "      <td>...</td>\n",
       "      <td>...</td>\n",
       "      <td>...</td>\n",
       "    </tr>\n",
       "    <tr>\n",
       "      <th>5099880</th>\n",
       "      <td>21.0</td>\n",
       "      <td>3.0</td>\n",
       "      <td>2.0</td>\n",
       "      <td>0.0</td>\n",
       "      <td>19.0</td>\n",
       "      <td>3.0</td>\n",
       "      <td>0.000000e+00</td>\n",
       "      <td>6.990989e-318</td>\n",
       "    </tr>\n",
       "    <tr>\n",
       "      <th>5099900</th>\n",
       "      <td>22.0</td>\n",
       "      <td>4.0</td>\n",
       "      <td>6.0</td>\n",
       "      <td>0.0</td>\n",
       "      <td>1.0</td>\n",
       "      <td>4.0</td>\n",
       "      <td>0.000000e+00</td>\n",
       "      <td>1.900348e-317</td>\n",
       "    </tr>\n",
       "    <tr>\n",
       "      <th>5099920</th>\n",
       "      <td>8.0</td>\n",
       "      <td>-21.0</td>\n",
       "      <td>-1.0</td>\n",
       "      <td>0.0</td>\n",
       "      <td>-14.0</td>\n",
       "      <td>-7.0</td>\n",
       "      <td>0.000000e+00</td>\n",
       "      <td>3.162020e-322</td>\n",
       "    </tr>\n",
       "    <tr>\n",
       "      <th>5099940</th>\n",
       "      <td>11.0</td>\n",
       "      <td>-31.0</td>\n",
       "      <td>-5.0</td>\n",
       "      <td>0.0</td>\n",
       "      <td>3.0</td>\n",
       "      <td>-4.0</td>\n",
       "      <td>0.000000e+00</td>\n",
       "      <td>6.373447e-321</td>\n",
       "    </tr>\n",
       "    <tr>\n",
       "      <th>5099960</th>\n",
       "      <td>19.0</td>\n",
       "      <td>-15.0</td>\n",
       "      <td>2.0</td>\n",
       "      <td>0.0</td>\n",
       "      <td>8.0</td>\n",
       "      <td>7.0</td>\n",
       "      <td>0.000000e+00</td>\n",
       "      <td>3.816952e-316</td>\n",
       "    </tr>\n",
       "  </tbody>\n",
       "</table>\n",
       "<p>3790163 rows × 8 columns</p>\n",
       "</div>"
      ],
      "text/plain": [
       "              x     y     z  theta  x_diff  z_diff  softmax_x_diff  \\\n",
       "timestamp                                                            \n",
       "20          0.0  -2.0  14.0    0.0     4.0    -1.0   5.752741e-290   \n",
       "40         19.0  -5.0   8.0    0.0    19.0    -6.0   1.880581e-283   \n",
       "60         50.0   6.0  38.0    0.0    31.0    30.0   3.060736e-278   \n",
       "80         15.0 -12.0   9.0    0.0   -35.0   -29.0   6.643395e-307   \n",
       "100       -48.0 -12.0   4.0    0.0   -63.0    -5.0   4.593526e-319   \n",
       "...         ...   ...   ...    ...     ...     ...             ...   \n",
       "5099880    21.0   3.0   2.0    0.0    19.0     3.0    0.000000e+00   \n",
       "5099900    22.0   4.0   6.0    0.0     1.0     4.0    0.000000e+00   \n",
       "5099920     8.0 -21.0  -1.0    0.0   -14.0    -7.0    0.000000e+00   \n",
       "5099940    11.0 -31.0  -5.0    0.0     3.0    -4.0    0.000000e+00   \n",
       "5099960    19.0 -15.0   2.0    0.0     8.0     7.0    0.000000e+00   \n",
       "\n",
       "           softmax_z_diff  \n",
       "timestamp                  \n",
       "20          8.621819e-264  \n",
       "40          5.809336e-266  \n",
       "60          2.504539e-250  \n",
       "80          5.961470e-276  \n",
       "100         1.579141e-265  \n",
       "...                   ...  \n",
       "5099880     6.990989e-318  \n",
       "5099900     1.900348e-317  \n",
       "5099920     3.162020e-322  \n",
       "5099940     6.373447e-321  \n",
       "5099960     3.816952e-316  \n",
       "\n",
       "[3790163 rows x 8 columns]"
      ]
     },
     "execution_count": 45,
     "metadata": {},
     "output_type": "execute_result"
    }
   ],
   "source": [
    "df_Y"
   ]
  },
  {
   "cell_type": "code",
   "execution_count": 46,
   "metadata": {},
   "outputs": [
    {
     "data": {
      "text/html": [
       "<div>\n",
       "<style scoped>\n",
       "    .dataframe tbody tr th:only-of-type {\n",
       "        vertical-align: middle;\n",
       "    }\n",
       "\n",
       "    .dataframe tbody tr th {\n",
       "        vertical-align: top;\n",
       "    }\n",
       "\n",
       "    .dataframe thead th {\n",
       "        text-align: right;\n",
       "    }\n",
       "</style>\n",
       "<table border=\"1\" class=\"dataframe\">\n",
       "  <thead>\n",
       "    <tr style=\"text-align: right;\">\n",
       "      <th></th>\n",
       "      <th>x</th>\n",
       "      <th>y</th>\n",
       "      <th>z</th>\n",
       "      <th>theta</th>\n",
       "      <th>x_diff</th>\n",
       "      <th>y_diff</th>\n",
       "      <th>softmax_x_diff</th>\n",
       "      <th>softmax_y_diff</th>\n",
       "    </tr>\n",
       "    <tr>\n",
       "      <th>timestamp</th>\n",
       "      <th></th>\n",
       "      <th></th>\n",
       "      <th></th>\n",
       "      <th></th>\n",
       "      <th></th>\n",
       "      <th></th>\n",
       "      <th></th>\n",
       "      <th></th>\n",
       "    </tr>\n",
       "  </thead>\n",
       "  <tbody>\n",
       "    <tr>\n",
       "      <th>20</th>\n",
       "      <td>0.0</td>\n",
       "      <td>-2.0</td>\n",
       "      <td>14.0</td>\n",
       "      <td>0.0</td>\n",
       "      <td>4.0</td>\n",
       "      <td>5.0</td>\n",
       "      <td>8.428435e-315</td>\n",
       "      <td>0.0</td>\n",
       "    </tr>\n",
       "    <tr>\n",
       "      <th>40</th>\n",
       "      <td>19.0</td>\n",
       "      <td>-5.0</td>\n",
       "      <td>8.0</td>\n",
       "      <td>0.0</td>\n",
       "      <td>19.0</td>\n",
       "      <td>-3.0</td>\n",
       "      <td>2.755270e-308</td>\n",
       "      <td>0.0</td>\n",
       "    </tr>\n",
       "    <tr>\n",
       "      <th>60</th>\n",
       "      <td>50.0</td>\n",
       "      <td>6.0</td>\n",
       "      <td>38.0</td>\n",
       "      <td>0.0</td>\n",
       "      <td>31.0</td>\n",
       "      <td>11.0</td>\n",
       "      <td>4.484334e-303</td>\n",
       "      <td>0.0</td>\n",
       "    </tr>\n",
       "    <tr>\n",
       "      <th>80</th>\n",
       "      <td>15.0</td>\n",
       "      <td>-12.0</td>\n",
       "      <td>9.0</td>\n",
       "      <td>0.0</td>\n",
       "      <td>-35.0</td>\n",
       "      <td>-18.0</td>\n",
       "      <td>0.000000e+00</td>\n",
       "      <td>0.0</td>\n",
       "    </tr>\n",
       "    <tr>\n",
       "      <th>100</th>\n",
       "      <td>-48.0</td>\n",
       "      <td>-12.0</td>\n",
       "      <td>4.0</td>\n",
       "      <td>0.0</td>\n",
       "      <td>-63.0</td>\n",
       "      <td>0.0</td>\n",
       "      <td>0.000000e+00</td>\n",
       "      <td>0.0</td>\n",
       "    </tr>\n",
       "    <tr>\n",
       "      <th>...</th>\n",
       "      <td>...</td>\n",
       "      <td>...</td>\n",
       "      <td>...</td>\n",
       "      <td>...</td>\n",
       "      <td>...</td>\n",
       "      <td>...</td>\n",
       "      <td>...</td>\n",
       "      <td>...</td>\n",
       "    </tr>\n",
       "    <tr>\n",
       "      <th>5099880</th>\n",
       "      <td>21.0</td>\n",
       "      <td>3.0</td>\n",
       "      <td>2.0</td>\n",
       "      <td>0.0</td>\n",
       "      <td>19.0</td>\n",
       "      <td>25.0</td>\n",
       "      <td>0.000000e+00</td>\n",
       "      <td>0.0</td>\n",
       "    </tr>\n",
       "    <tr>\n",
       "      <th>5099900</th>\n",
       "      <td>22.0</td>\n",
       "      <td>4.0</td>\n",
       "      <td>6.0</td>\n",
       "      <td>0.0</td>\n",
       "      <td>1.0</td>\n",
       "      <td>1.0</td>\n",
       "      <td>0.000000e+00</td>\n",
       "      <td>0.0</td>\n",
       "    </tr>\n",
       "    <tr>\n",
       "      <th>5099920</th>\n",
       "      <td>8.0</td>\n",
       "      <td>-21.0</td>\n",
       "      <td>-1.0</td>\n",
       "      <td>0.0</td>\n",
       "      <td>-14.0</td>\n",
       "      <td>-25.0</td>\n",
       "      <td>0.000000e+00</td>\n",
       "      <td>0.0</td>\n",
       "    </tr>\n",
       "    <tr>\n",
       "      <th>5099940</th>\n",
       "      <td>11.0</td>\n",
       "      <td>-31.0</td>\n",
       "      <td>-5.0</td>\n",
       "      <td>0.0</td>\n",
       "      <td>3.0</td>\n",
       "      <td>-10.0</td>\n",
       "      <td>0.000000e+00</td>\n",
       "      <td>0.0</td>\n",
       "    </tr>\n",
       "    <tr>\n",
       "      <th>5099960</th>\n",
       "      <td>19.0</td>\n",
       "      <td>-15.0</td>\n",
       "      <td>2.0</td>\n",
       "      <td>0.0</td>\n",
       "      <td>8.0</td>\n",
       "      <td>16.0</td>\n",
       "      <td>0.000000e+00</td>\n",
       "      <td>0.0</td>\n",
       "    </tr>\n",
       "  </tbody>\n",
       "</table>\n",
       "<p>3790163 rows × 8 columns</p>\n",
       "</div>"
      ],
      "text/plain": [
       "              x     y     z  theta  x_diff  y_diff  softmax_x_diff  \\\n",
       "timestamp                                                            \n",
       "20          0.0  -2.0  14.0    0.0     4.0     5.0   8.428435e-315   \n",
       "40         19.0  -5.0   8.0    0.0    19.0    -3.0   2.755270e-308   \n",
       "60         50.0   6.0  38.0    0.0    31.0    11.0   4.484334e-303   \n",
       "80         15.0 -12.0   9.0    0.0   -35.0   -18.0    0.000000e+00   \n",
       "100       -48.0 -12.0   4.0    0.0   -63.0     0.0    0.000000e+00   \n",
       "...         ...   ...   ...    ...     ...     ...             ...   \n",
       "5099880    21.0   3.0   2.0    0.0    19.0    25.0    0.000000e+00   \n",
       "5099900    22.0   4.0   6.0    0.0     1.0     1.0    0.000000e+00   \n",
       "5099920     8.0 -21.0  -1.0    0.0   -14.0   -25.0    0.000000e+00   \n",
       "5099940    11.0 -31.0  -5.0    0.0     3.0   -10.0    0.000000e+00   \n",
       "5099960    19.0 -15.0   2.0    0.0     8.0    16.0    0.000000e+00   \n",
       "\n",
       "           softmax_y_diff  \n",
       "timestamp                  \n",
       "20                    0.0  \n",
       "40                    0.0  \n",
       "60                    0.0  \n",
       "80                    0.0  \n",
       "100                   0.0  \n",
       "...                   ...  \n",
       "5099880               0.0  \n",
       "5099900               0.0  \n",
       "5099920               0.0  \n",
       "5099940               0.0  \n",
       "5099960               0.0  \n",
       "\n",
       "[3790163 rows x 8 columns]"
      ]
     },
     "execution_count": 46,
     "metadata": {},
     "output_type": "execute_result"
    }
   ],
   "source": [
    "df_Z"
   ]
  },
  {
   "cell_type": "markdown",
   "metadata": {},
   "source": [
    "# Model building for each rotation"
   ]
  },
  {
   "cell_type": "code",
   "execution_count": 38,
   "metadata": {},
   "outputs": [],
   "source": [
    "model_X=train_and_test_model_X(df_X)"
   ]
  },
  {
   "cell_type": "code",
   "execution_count": 39,
   "metadata": {},
   "outputs": [],
   "source": [
    "model_Y=train_and_test_model_Y(df_Y)"
   ]
  },
  {
   "cell_type": "code",
   "execution_count": 40,
   "metadata": {},
   "outputs": [],
   "source": [
    "model_Z=train_and_test_model_Z(df_Z)"
   ]
  },
  {
   "cell_type": "code",
   "execution_count": 41,
   "metadata": {},
   "outputs": [
    {
     "data": {
      "text/plain": [
       "(RandomForestRegressor(random_state=1), 0.8071030883465027, 2239.4858765391423)"
      ]
     },
     "execution_count": 41,
     "metadata": {},
     "output_type": "execute_result"
    }
   ],
   "source": [
    "model_X"
   ]
  },
  {
   "cell_type": "code",
   "execution_count": 42,
   "metadata": {},
   "outputs": [
    {
     "data": {
      "text/plain": [
       "(RandomForestRegressor(random_state=1), 0.7029431393542227, 3998.0749737165565)"
      ]
     },
     "execution_count": 42,
     "metadata": {},
     "output_type": "execute_result"
    }
   ],
   "source": [
    "model_Y"
   ]
  },
  {
   "cell_type": "code",
   "execution_count": 47,
   "metadata": {},
   "outputs": [
    {
     "data": {
      "text/plain": [
       "(RandomForestRegressor(random_state=1), 0.5488598382343686, 5894.213776159801)"
      ]
     },
     "execution_count": 47,
     "metadata": {},
     "output_type": "execute_result"
    }
   ],
   "source": [
    "model_Z"
   ]
  },
  {
   "cell_type": "code",
   "execution_count": 48,
   "metadata": {},
   "outputs": [
    {
     "data": {
      "text/plain": [
       "47.32320653272707"
      ]
     },
     "execution_count": 48,
     "metadata": {},
     "output_type": "execute_result"
    }
   ],
   "source": [
    "math.sqrt(2239.4858765391423)"
   ]
  },
  {
   "cell_type": "code",
   "execution_count": null,
   "metadata": {},
   "outputs": [],
   "source": [
    "math.sqrt(3998.0749737165565)"
   ]
  },
  {
   "cell_type": "code",
   "execution_count": 50,
   "metadata": {},
   "outputs": [
    {
     "data": {
      "text/plain": [
       "76.77378313043978"
      ]
     },
     "execution_count": 50,
     "metadata": {},
     "output_type": "execute_result"
    }
   ],
   "source": [
    "math.sqrt(5894.213776159801)"
   ]
  }
 ],
 "metadata": {
  "kernelspec": {
   "display_name": "Python 3",
   "language": "python",
   "name": "python3"
  },
  "language_info": {
   "codemirror_mode": {
    "name": "ipython",
    "version": 3
   },
   "file_extension": ".py",
   "mimetype": "text/x-python",
   "name": "python",
   "nbconvert_exporter": "python",
   "pygments_lexer": "ipython3",
   "version": "3.8.3"
  }
 },
 "nbformat": 4,
 "nbformat_minor": 4
}
